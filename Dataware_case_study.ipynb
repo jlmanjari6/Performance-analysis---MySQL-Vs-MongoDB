{
 "cells": [
  {
   "cell_type": "code",
   "execution_count": null,
   "metadata": {},
   "outputs": [],
   "source": [
    "import pandas as pd\n",
    "import numpy as np\n"
   ]
  },
  {
   "cell_type": "code",
   "execution_count": null,
   "metadata": {},
   "outputs": [],
   "source": [
    "df=pd.read_csv(\"/sudeste.csv\")\n"
   ]
  },
  {
   "cell_type": "code",
   "execution_count": null,
   "metadata": {},
   "outputs": [],
   "source": [
    "df ['dewp'].fillna(0,inplace=True)\n",
    "df ['tmax'].fillna(0,inplace=True)\n",
    "df ['dmax'].fillna(0,inplace=True)\n",
    "df ['tmin'].fillna(0,inplace=True)\n",
    "df ['dmin'].fillna(0,inplace=True)\n",
    "df ['hmax'].fillna(0,inplace=True)\n",
    "df ['hmin'].fillna(0,inplace=True)\n",
    "df ['wdsp'].fillna(0,inplace=True)\n",
    "df ['gust'].fillna(0,inplace=True)\n",
    "df ['gbrd'].fillna(0,inplace=True)\n",
    "df ['prcp'].fillna(0,inplace=True)\n",
    "df ['temp'].fillna(0,inplace=True)\n",
    "print(df.isnull().sum())"
   ]
  },
  {
   "cell_type": "code",
   "execution_count": null,
   "metadata": {},
   "outputs": [],
   "source": [
    "import pandas as pd\n",
    "\n",
    "# drop unwanted columns \n",
    "del df['yr']\n",
    "del df['mo']\n",
    "del df['da']\n",
    "del df['hr']\n",
    "del df['date']\n",
    "\n",
    "# drop rows with all zeroes\n",
    "values = df[ (df['prcp'] == 0) & (df['stp'] == 0) & (df['smax'] == 0) & (df['smin'] == 0) & (df['gbrd'] == 0) & (df['temp'] == 0)\n",
    "               & (df['dewp'] == 0) & (df['tmax'] == 0) & (df['dmax'] == 0) & (df['tmin'] == 0) &\n",
    "               (df['dmin'] == 0) & (df['hmdy'] == 0) & (df['hmax'] == 0) & (df['hmin'] == 0) &\n",
    "               (df['wdsp'] == 0) & (df['wdct'] == 0) & (df['gust'] == 0)].index\n",
    "df.drop(values , inplace=True)\n",
    "\n",
    "# replace empty cells with \"0\"\n",
    "df ['gbrd'].fillna(0,inplace=True)\n",
    "df ['hmax'].fillna(0,inplace=True)\n",
    "df ['prcp'].fillna(0,inplace=True)\n",
    "df ['temp'].fillna(0,inplace=True)\n",
    "df ['tmax'].fillna(0,inplace=True)\n",
    "df ['dewp'].fillna(0,inplace=True)\n",
    "df ['hmin'].fillna(0,inplace=True)\n",
    "df ['wdsp'].fillna(0,inplace=True)\n",
    "df ['gust'].fillna(0,inplace=True)\n",
    "df ['dmax'].fillna(0,inplace=True)\n",
    "df ['tmin'].fillna(0,inplace=True)\n",
    "df ['dmin'].fillna(0,inplace=True)\n",
    "\n",
    "# rename columns\n",
    "df=df.rename(columns = {'wsid':'station_id','wsnm':'station_name','elvt':'elevation','lat':'latitude','lon':'longitude','mdct':\n",
    "                        'observation_dt','wdsp':'wind_speed','wdct':'wind_direction','stp':'air_pressure','gbrd':'solar_radiation',})"
   ]
  },
  {
   "cell_type": "code",
   "execution_count": null,
   "metadata": {},
   "outputs": [],
   "source": [
    "indexNames = df[(df['smax'] == 0) & (df['smin'] == 0) & (df['prcp'] == 0) & (df['stp'] == 0) & \n",
    "                (df['gbrd'] == 0) & (df['temp'] == 0) & (df['dmin'] == 0) & (df['hmdy'] == 0) & \n",
    "                (df['hmax'] == 0) & (df['hmin'] == 0) & (df['dewp'] == 0) & (df['tmax'] == 0) & \n",
    "                (df['dmax'] == 0) & (df['tmin'] == 0) & (df['wdsp'] == 0) & (df['wdct'] == 0) & (df['gust'] == 0)].index\n",
    " \n",
    "df.drop(indexNames , inplace=True)"
   ]
  },
  {
   "cell_type": "code",
   "execution_count": null,
   "metadata": {},
   "outputs": [],
   "source": [
    "print(df.wsid.count())"
   ]
  },
  {
   "cell_type": "code",
   "execution_count": null,
   "metadata": {},
   "outputs": [],
   "source": [
    "df.columns\n"
   ]
  },
  {
   "cell_type": "code",
   "execution_count": null,
   "metadata": {},
   "outputs": [],
   "source": [
    "del df['yr']\n",
    "del df['mo']\n",
    "del df['da']\n",
    "del df['hr']\n",
    "del df['date']\n",
    "df.columns"
   ]
  },
  {
   "cell_type": "code",
   "execution_count": null,
   "metadata": {},
   "outputs": [],
   "source": [
    "f=open('/Users/akshayreddypoturi/Data_warehousing/case_study/data.csv','w')"
   ]
  },
  {
   "cell_type": "code",
   "execution_count": null,
   "metadata": {},
   "outputs": [],
   "source": [
    "df.to_csv('/Users/akshayreddypoturi/Data_warehousing/case_study/data.csv', encoding='utf-8')"
   ]
  },
  {
   "cell_type": "code",
   "execution_count": null,
   "metadata": {},
   "outputs": [],
   "source": [
    "f.close()"
   ]
  },
  {
   "cell_type": "code",
   "execution_count": null,
   "metadata": {},
   "outputs": [],
   "source": []
  }
 ],
 "metadata": {
  "kernelspec": {
   "display_name": "Python 3",
   "language": "python",
   "name": "python3"
  },
  "language_info": {
   "codemirror_mode": {
    "name": "ipython",
    "version": 3
   },
   "file_extension": ".py",
   "mimetype": "text/x-python",
   "name": "python",
   "nbconvert_exporter": "python",
   "pygments_lexer": "ipython3",
   "version": "3.7.3"
  }
 },
 "nbformat": 4,
 "nbformat_minor": 2
}
